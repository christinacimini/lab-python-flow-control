{
  "nbformat": 4,
  "nbformat_minor": 0,
  "metadata": {
    "colab": {
      "provenance": [],
      "authorship_tag": "ABX9TyNbikyGH3JzbaYuYjwOpo/Q",
      "include_colab_link": true
    },
    "kernelspec": {
      "name": "python3",
      "display_name": "Python 3"
    },
    "language_info": {
      "name": "python"
    }
  },
  "cells": [
    {
      "cell_type": "markdown",
      "metadata": {
        "id": "view-in-github",
        "colab_type": "text"
      },
      "source": [
        "<a href=\"https://colab.research.google.com/github/christinacimini/lab-python-flow-control/blob/main/Flow_Control.ipynb\" target=\"_parent\"><img src=\"https://colab.research.google.com/assets/colab-badge.svg\" alt=\"Open In Colab\"/></a>"
      ]
    },
    {
      "cell_type": "code",
      "execution_count": 1,
      "metadata": {
        "colab": {
          "base_uri": "https://localhost:8080/"
        },
        "id": "d2TT5wq3PAwV",
        "outputId": "698f6f99-78c8-453d-8158-1f6b9fc5d2a8"
      },
      "outputs": [
        {
          "name": "stdout",
          "output_type": "stream",
          "text": [
            "What is the quantity of t-shirt?: 5\n",
            "What is the quantity of mug?: 3\n",
            "What is the quantity of hat?: 7\n",
            "What is the quantity of book?: 5\n",
            "What is the quantity of keychain?: 5\n"
          ]
        }
      ],
      "source": [
        "add_more = 'n'\n",
        "\n",
        "products = ['t-shirt', 'mug', 'hat', 'book', 'keychain']\n",
        "inventory = {}\n",
        "for item in products:\n",
        "  quantity = int(input(f\"What is the quantity of {item}?: \"))\n",
        "  inventory[item] = quantity\n",
        "\n",
        "customer_orders = set()"
      ]
    },
    {
      "cell_type": "code",
      "source": [
        "chosen_item = input(\"Choose a product to add: \")\n",
        "customer_orders.add(chosen_item)\n",
        "add_more = input(\"Do you want to add another product? (y/n) \")\n",
        "while add_more == 'y':\n",
        "   chosen_item = input(\"Choose a product to add: \")\n",
        "   customer_orders.add(chosen_item)\n",
        "   add_more = input(\"Do you want to add another product? (y/n) \")\n",
        "   if add_more == 'n':\n",
        "     break"
      ],
      "metadata": {
        "colab": {
          "base_uri": "https://localhost:8080/"
        },
        "id": "Vtkxna9VPC8R",
        "outputId": "401d5d34-686d-43d0-9844-cbb1c880a7c3"
      },
      "execution_count": 2,
      "outputs": [
        {
          "name": "stdout",
          "output_type": "stream",
          "text": [
            "Choose a product to add: book\n",
            "Do you want to add another product? (y/n) y\n",
            "Choose a product to add: hat\n",
            "Do you want to add another product? (y/n) n\n"
          ]
        }
      ]
    },
    {
      "cell_type": "code",
      "source": [
        "order_status = (sum(inventory[item] for item in customer_orders), sum(inventory[item] for item in customer_orders) / sum(inventory.values()))\n",
        "print('Order Statistics:\\n'\n",
        "      f'Total Products Ordered: {order_status[0]}\\n'\n",
        "      f'Percentage of Products Ordered: {order_status[1]}')\n",
        "for item, quantity in inventory.items():\n",
        "  if item in customer_orders:\n",
        "    new_quantity = quantity - 1\n",
        "  print(f'{item}: {new_quantity}')"
      ],
      "metadata": {
        "colab": {
          "base_uri": "https://localhost:8080/"
        },
        "id": "EpAAC-1uPEgd",
        "outputId": "308a430b-0aaa-4563-c6e6-c3ac7f89e12c"
      },
      "execution_count": 5,
      "outputs": [
        {
          "output_type": "stream",
          "name": "stdout",
          "text": [
            "Order Statistics:\n",
            "Total Products Ordered: 12\n",
            "Percentage of Products Ordered: 0.48\n",
            "t-shirt: 4\n",
            "mug: 4\n",
            "hat: 6\n",
            "book: 4\n",
            "keychain: 4\n"
          ]
        }
      ]
    }
  ]
}